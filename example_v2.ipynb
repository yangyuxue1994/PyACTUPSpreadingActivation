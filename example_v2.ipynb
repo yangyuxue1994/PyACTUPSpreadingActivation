{
 "cells": [
  {
   "cell_type": "code",
   "execution_count": 1,
   "metadata": {},
   "outputs": [
    {
     "data": {
      "text/plain": [
       "<Chunk 0001 {'color': 'red', 'size': 1}>"
      ]
     },
     "execution_count": 1,
     "metadata": {},
     "output_type": "execute_result"
    }
   ],
   "source": [
    "\"\"\"\n",
    "simple memory-based ACTR:\n",
    "Author: Cher Yang\n",
    "2020/02/20\n",
    "\"\"\"\n",
    "import pyactup_v2 as pya\n",
    "import random\n",
    "\n",
    "\"\"\"Example of Spreading Activation term \"\"\"\n",
    "######## init: declarative memory buffer and imaginal buffer\n",
    "random.seed(0)\n",
    "dm_buffer=pya.Memory() \n",
    "imaginal_buffer=pya.Memory()\n",
    "dm_buffer._activation_history=[]\n",
    "\n",
    "################################################################\n",
    "# '''ATTEND 1 (red,1)\n",
    "# in imaginal buffer (WM), create a chunk \n",
    "#     only one chunk is allowed, but up to 7 items (slot,value) could be added\n",
    "# '''\n",
    "imaginal_buffer.learn(color='red', size=1)\n",
    "\n",
    "# ''' ENCODE 1\n",
    "# in dm buffer, copy the chunk in imaginal buffer\n",
    "# clear imaginal buffer\n",
    "# '''\n",
    "dm_buffer.encode(imaginal_buffer._curr_chunk(-1))\n",
    "dm_buffer.advance(2)\n",
    "imaginal_buffer.reset()  \n",
    "\n",
    "################################################################\n",
    "# '''ATTEND 2 (red, 2)\n",
    "# in imaginal buffer (WM), create a chunk \n",
    "#     only one chunk is allowed, but up to 7 items (slot,value) could be added\n",
    "# '''\n",
    "imaginal_buffer.learn(color='red', size=2)\n",
    "\n",
    "# ''' ENCODE 2\n",
    "# in dm buffer, copy the chunk in imaginal buffer\n",
    "# clear imaginal buffer\n",
    "# '''\n",
    "# encode in LTM\n",
    "dm_buffer.encode(imaginal_buffer._curr_chunk(-1))\n",
    "dm_buffer.advance(2)\n",
    "imaginal_buffer.reset()  \n",
    "\n",
    "################################################################\n",
    "# '''ATTEND 3 (green, 100)\n",
    "# in imaginal buffer (WM), create a chunk \n",
    "#     only one chunk is allowed, but up to 7 items (slot,value) could be added\n",
    "# '''\n",
    "imaginal_buffer.learn(color='green', size=100)\n",
    "\n",
    "\n",
    "# ''' ENCODE 3\n",
    "# in dm buffer, copy the chunk in imaginal buffer\n",
    "# clear imaginal buffer\n",
    "# '''\n",
    "# encode in LTM\n",
    "dm_buffer.encode(imaginal_buffer._curr_chunk(0))\n",
    "dm_buffer.advance(2)\n",
    "imaginal_buffer.reset()  \n",
    "\n",
    "################################################################\n",
    "# '''RETRIEVE 1 (red, 1)\n",
    "# first, attend one event, try to retrieve, if successful, re-encode, otherweise, return None\n",
    "# in imaginal buffer (WM), create a chunk \n",
    "# in dm buffer, request a retrieval\n",
    "# '''\n",
    "imaginal_buffer.learn(color='red', size=1)\n",
    "ichunk=imaginal_buffer._curr_chunk(0)\n",
    "result = dm_buffer.retrieve(ichunk)\n",
    "dm_buffer.advance(2)\n",
    "result\n"
   ]
  },
  {
   "cell_type": "code",
   "execution_count": 2,
   "metadata": {},
   "outputs": [
    {
     "data": {
      "text/plain": [
       "array([0.70412027, 0.25069386, 0.        ])"
      ]
     },
     "execution_count": 2,
     "metadata": {},
     "output_type": "execute_result"
    }
   ],
   "source": [
    "# array of spreading activation vector for all chunks in dm buffer\n",
    "dm_buffer._spreading_activation_vec"
   ]
  },
  {
   "cell_type": "code",
   "execution_count": 3,
   "metadata": {},
   "outputs": [
    {
     "data": {
      "text/plain": [
       "<Chunk 0001 {'color': 'red', 'size': 1}>"
      ]
     },
     "execution_count": 3,
     "metadata": {},
     "output_type": "execute_result"
    }
   ],
   "source": [
    "# reset dm\n",
    "dm_buffer._activation_history=[]\n",
    "dm_buffer.mismatch=100\n",
    "\n",
    "imaginal_buffer.learn(color='red', size=1)\n",
    "ichunk=imaginal_buffer._curr_chunk(0)\n",
    "\n",
    "result = dm_buffer.retrieve(ichunk, partial=True)\n",
    "dm_buffer.advance(2)\n",
    "\n",
    "result"
   ]
  },
  {
   "cell_type": "code",
   "execution_count": 4,
   "metadata": {},
   "outputs": [
    {
     "data": {
      "text/plain": [
       "[OrderedDict([('name', '0001'),\n",
       "              ('creation_time', 0),\n",
       "              ('attributes', (('color', 'red'), ('size', 1))),\n",
       "              ('references', (0, 6)),\n",
       "              ('base_activation', 0.058891517828191846),\n",
       "              ('activation_noise', 0.023420158892148147),\n",
       "              ('spreading_activation', 0.7041202653859726),\n",
       "              ('importance', -0.17299340559894127),\n",
       "              ('mismatch', 0.0),\n",
       "              ('activation', 0.6134385365073713)]),\n",
       " OrderedDict([('name', '0003'),\n",
       "              ('creation_time', 2),\n",
       "              ('attributes', (('color', 'red'), ('size', 2))),\n",
       "              ('references', (2,)),\n",
       "              ('base_activation', -0.8958797346140275),\n",
       "              ('activation_noise', -0.08416815771725383),\n",
       "              ('spreading_activation', 0.25069385566594515),\n",
       "              ('importance', -0.6581015158318215),\n",
       "              ('mismatch', -100.0),\n",
       "              ('activation', -101.38745555249716)]),\n",
       " OrderedDict([('name', '0005'),\n",
       "              ('creation_time', 4),\n",
       "              ('attributes', (('color', 'green'), ('size', 100))),\n",
       "              ('references', (4,)),\n",
       "              ('base_activation', -0.6931471805599453),\n",
       "              ('activation_noise', -0.5727019707791786),\n",
       "              ('spreading_activation', 0),\n",
       "              ('importance', 0.022298962520990756),\n",
       "              ('mismatch', -200.0),\n",
       "              ('activation', -201.24355018881812)])]"
      ]
     },
     "execution_count": 4,
     "metadata": {},
     "output_type": "execute_result"
    }
   ],
   "source": [
    "dm_buffer._activation_history"
   ]
  },
  {
   "cell_type": "code",
   "execution_count": 5,
   "metadata": {},
   "outputs": [
    {
     "data": {
      "text/plain": [
       "<Chunk 0008 {'color': 'red', 'size': 1}>"
      ]
     },
     "execution_count": 5,
     "metadata": {},
     "output_type": "execute_result"
    }
   ],
   "source": [
    "\"\"\"Example of Importance parameter (EMOTION)\"\"\"\n",
    "\n",
    "######## init: declarative memory buffer and imaginal buffer\n",
    "random.seed(0)\n",
    "dm_buffer=pya.Memory() \n",
    "imaginal_buffer=pya.Memory() \n",
    "dm_buffer._activation_history=[]\n",
    "\n",
    "# attend to event1 #------------ set high Importance (emotional value) ------------#\n",
    "imaginal_buffer.importance=100\n",
    "imaginal_buffer.learn(color='red', size=1)\n",
    "ichunk=imaginal_buffer._curr_chunk(0)\n",
    "dm_buffer.encode(ichunk)\n",
    "dm_buffer.advance(2)\n",
    "imaginal_buffer.reset()   # clear img buffer\n",
    "\n",
    "# attend to event2 \n",
    "imaginal_buffer.learn(color='red', size=2)\n",
    "ichunk=imaginal_buffer._curr_chunk(0)\n",
    "dm_buffer.encode(ichunk)\n",
    "dm_buffer.advance(2)\n",
    "imaginal_buffer.reset()   # clear img buffer\n",
    "\n",
    "# attend to event3\n",
    "imaginal_buffer.learn(color='green', size=100)\n",
    "ichunk=imaginal_buffer._curr_chunk(0)\n",
    "dm_buffer.encode(ichunk)\n",
    "dm_buffer.advance(2)\n",
    "imaginal_buffer.reset()   # clear img buffer\n",
    "\n",
    "# retrieve \n",
    "imaginal_buffer.learn(color='red', size=1)\n",
    "ichunk=imaginal_buffer._curr_chunk(0)\n",
    "result = dm_buffer.retrieve(ichunk)\n",
    "dm_buffer.advance(2)\n",
    "imaginal_buffer.reset()\n",
    "\n",
    "result"
   ]
  },
  {
   "cell_type": "code",
   "execution_count": 6,
   "metadata": {},
   "outputs": [
    {
     "data": {
      "text/plain": [
       "[OrderedDict([('name', '0008'),\n",
       "              ('creation_time', 0),\n",
       "              ('attributes', (('color', 'red'), ('size', 1))),\n",
       "              ('references', (0,)),\n",
       "              ('base_activation', -0.8958797346140275),\n",
       "              ('activation_noise', 0.09623691561938817),\n",
       "              ('spreading_activation', 0.7041202653859726),\n",
       "              ('importance', 100.0),\n",
       "              ('activation', 99.90447744639134)]),\n",
       " OrderedDict([('name', '0010'),\n",
       "              ('creation_time', 2),\n",
       "              ('attributes', (('color', 'red'), ('size', 2))),\n",
       "              ('references', (2,)),\n",
       "              ('base_activation', -0.6931471805599453),\n",
       "              ('activation_noise', -0.3219854135541716),\n",
       "              ('spreading_activation', 0.25069385566594515),\n",
       "              ('importance', -0.17299340559894127),\n",
       "              ('activation', -0.9374321440471131)])]"
      ]
     },
     "execution_count": 6,
     "metadata": {},
     "output_type": "execute_result"
    }
   ],
   "source": [
    "dm_buffer._activation_history"
   ]
  },
  {
   "cell_type": "code",
   "execution_count": 7,
   "metadata": {},
   "outputs": [
    {
     "data": {
      "text/plain": [
       "array([0.70412027, 0.25069386, 0.        ])"
      ]
     },
     "execution_count": 7,
     "metadata": {},
     "output_type": "execute_result"
    }
   ],
   "source": [
    "dm_buffer._spreading_activation_vec"
   ]
  },
  {
   "cell_type": "code",
   "execution_count": null,
   "metadata": {},
   "outputs": [],
   "source": []
  },
  {
   "cell_type": "code",
   "execution_count": null,
   "metadata": {},
   "outputs": [],
   "source": []
  },
  {
   "cell_type": "code",
   "execution_count": null,
   "metadata": {},
   "outputs": [],
   "source": []
  }
 ],
 "metadata": {
  "kernelspec": {
   "display_name": "Python 3",
   "language": "python",
   "name": "python3"
  },
  "language_info": {
   "codemirror_mode": {
    "name": "ipython",
    "version": 3
   },
   "file_extension": ".py",
   "mimetype": "text/x-python",
   "name": "python",
   "nbconvert_exporter": "python",
   "pygments_lexer": "ipython3",
   "version": "3.6.9"
  }
 },
 "nbformat": 4,
 "nbformat_minor": 4
}
