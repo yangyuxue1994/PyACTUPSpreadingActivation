{
 "cells": [
  {
   "cell_type": "code",
   "execution_count": 2,
   "metadata": {},
<<<<<<< HEAD
   "outputs": [],
=======
   "outputs": [
    {
     "name": "stdout",
     "output_type": "stream",
     "text": [
      "retrieve:  <Chunk 0000 {'color': 'red', 'size': 1}>\n",
      "[OrderedDict([('name', '0000'),\n",
      "              ('creation_time', 0),\n",
      "              ('attributes', (('color', 'red'), ('size', 1))),\n",
      "              ('references', (0,)),\n",
      "              ('base_activation', -0.5493061443340549),\n",
      "              ('activation_noise', 0.02891850261309848),\n",
      "              ('spreading_activation', 0.5013877113318903),\n",
      "              ('importance', 0.0),\n",
      "              ('activation', -0.018999930389066104)])]\n",
      "<Chunk 0000 {'color': 'red', 'size': 1}> 0.5013877113318903\n",
      "<Chunk 0001 {'face': 'red', 'height': 2}> 0.25069385566594515\n",
      "<Chunk 0002 {'face': 'yellow', 'height': 1}> 0.25069385566594515\n"
     ]
    }
   ],
>>>>>>> b174bc60037b40f0997c444a9403bcd698a64d7e
   "source": [
    "\"\"\"\n",
    "simple memory-based ACTR: \n",
    "Author: Cher Yang\n",
    "2020/04/02\n",
    "\"\"\"\n",
    "import pyactup_v2 as pya\n",
    "import pprint\n",
    "import random \n",
    "\n",
    "random.seed(0)\n",
    "\n",
    "#Test1: spreading activation\"\"\"\n",
    "m=pya.Memory()\n",
    "m.activation_history=[]\n",
    "m.learn(color='red', size=1)\n",
    "m.advance()\n",
    "m.learn(face='red', height=2)\n",
    "m.advance()\n",
    "m.learn(face='yellow', height=1)\n",
    "m.advance()\n",
    "\n",
    "#This test function will print spreading activation value for each chunk in m\n",
    "def print_all_spread(m):\n",
    "    if m.activation_history is None:\n",
    "        print(\"Not Retrieved Yet\")\n",
    "    else:\n",
    "        for chunk in list(m.values()):\n",
    "            print(chunk.__repr__(), chunk._spreading_activation)"
   ]
  },
  {
   "cell_type": "code",
   "execution_count": 2,
   "metadata": {},
   "outputs": [
    {
     "name": "stdout",
     "output_type": "stream",
     "text": [
      "retrieve:  <Chunk 0000 {'color': 'red', 'size': 1}>\n",
      "<Chunk 0000 {'color': 'red', 'size': 1}> 0.5013877113318903\n",
      "<Chunk 0001 {'face': 'red', 'height': 2}> 0.25069385566594515\n",
      "<Chunk 0002 {'face': 'yellow', 'height': 1}> 0.25069385566594515\n",
      "[OrderedDict([('name', '0000'),\n",
      "              ('creation_time', 0),\n",
      "              ('attributes', (('color', 'red'), ('size', 1))),\n",
      "              ('references', (0,)),\n",
      "              ('base_activation', -0.5493061443340549),\n",
      "              ('activation_noise', -0.422876006472601),\n",
      "              ('spreading_activation', 0.5013877113318903),\n",
      "              ('importance', 0.0),\n",
      "              ('activation', -0.47079443947476557)])]\n"
     ]
    }
   ],
   "source": [
    "### Test1: spread conditions = retrieve conditions\n",
    "m.spread(color='red', size=1)\n",
    "print(\"retrieve: \", m.retrieve(color='red', size=1).__repr__())\n",
    "m.advance()\n",
    "\n",
    "print_all_spread(m) # show spreading activation value for each chunk in m\n",
    "pprint.pprint(m.activation_history)"
   ]
  },
  {
   "cell_type": "code",
   "execution_count": 3,
   "metadata": {},
   "outputs": [
    {
     "name": "stdout",
     "output_type": "stream",
     "text": [
      "<Chunk 0000 {'color': 'red', 'size': 1}> None\n",
      "<Chunk 0001 {'face': 'red', 'height': 2}> None\n",
      "<Chunk 0002 {'face': 'yellow', 'height': 1}> None\n",
      "retrieve:  <Chunk 0000 {'color': 'red', 'size': 1}>\n",
      "[OrderedDict([('name', '0000'),\n",
      "              ('creation_time', 0),\n",
      "              ('attributes', (('color', 'red'), ('size', 1))),\n",
      "              ('references', (0,)),\n",
      "              ('base_activation', -0.6931471805599453),\n",
      "              ('activation_noise', -0.2853742758475817),\n",
      "              ('spreading_activation', None),\n",
      "              ('importance', 0.0),\n",
      "              ('activation', -0.978521456407527)])]\n"
     ]
    }
   ],
   "source": [
    "### Test2: reset spread\n",
    "m.activation_history=[] # reset activation history\n",
    "m.reset_spread() # reset spread activation value to None\n",
    "print_all_spread(m) # None\n",
    "\n",
    "print(\"retrieve: \", m.retrieve(color='red', size=1).__repr__())\n",
    "m.advance()\n",
    "pprint.pprint(m.activation_history)"
   ]
  },
  {
   "cell_type": "code",
   "execution_count": 17,
   "metadata": {},
   "outputs": [
    {
     "name": "stdout",
     "output_type": "stream",
     "text": [
      "<Chunk 0000 {'color': 'red', 'size': 1}> 0.5013877113318903\n",
      "<Chunk 0001 {'face': 'red', 'height': 2}> 0.5013877113318903\n",
      "<Chunk 0002 {'face': 'yellow', 'height': 1}> 0.0\n",
      "retrieve:  <Chunk 0000 {'color': 'red', 'size': 1}>\n",
      "[OrderedDict([('name', '0000'),\n",
      "              ('creation_time', 0),\n",
      "              ('attributes', (('color', 'red'), ('size', 1))),\n",
      "              ('references', (0,)),\n",
      "              ('base_activation', -1.4451858789480823),\n",
      "              ('activation_noise', 0.27397840542294616),\n",
      "              ('spreading_activation', 0.5013877113318903),\n",
      "              ('importance', 0.0),\n",
      "              ('activation', -0.6698197621932458)])]\n"
     ]
    }
   ],
   "source": [
    "### Test3 spread conditions <= retrieve conditions\n",
    "    #spread (color='red')\n",
    "    #retrieve (color='red', size=1)\n",
    "    \n",
    "m.activation_history=[] # reset activation history    \n",
    "m.spread(color='red')\n",
    "print_all_spread(m) \n",
    "\n",
    "print(\"retrieve: \", m.retrieve(color='red').__repr__())\n",
    "m.advance()\n",
    "pprint.pprint(m.activation_history)"
   ]
  },
  {
   "cell_type": "code",
   "execution_count": 6,
   "metadata": {},
   "outputs": [
    {
     "name": "stdout",
     "output_type": "stream",
     "text": [
      "<Chunk 0000 {'color': 'red', 'size': 1}> 0.5013877113318903\n",
      "<Chunk 0001 {'face': 'red', 'height': 2}> 0.25069385566594515\n",
      "<Chunk 0002 {'face': 'yellow', 'height': 1}> 0.25069385566594515\n",
      "retrieve:  <Chunk 0000 {'color': 'red', 'size': 1}>\n",
      "[OrderedDict([('name', '0000'),\n",
      "              ('creation_time', 0),\n",
      "              ('attributes', (('color', 'red'), ('size', 1))),\n",
      "              ('references', (0,)),\n",
      "              ('base_activation', -0.5493061443340549),\n",
      "              ('activation_noise', -0.422876006472601),\n",
      "              ('spreading_activation', 0.5013877113318903),\n",
      "              ('importance', 0.0),\n",
      "              ('activation', -0.47079443947476557)]),\n",
      " OrderedDict([('name', '0000'),\n",
      "              ('creation_time', 0),\n",
      "              ('attributes', (('color', 'red'), ('size', 1))),\n",
      "              ('references', (0,)),\n",
      "              ('base_activation', -0.6931471805599453),\n",
      "              ('activation_noise', -0.2853742758475817),\n",
      "              ('spreading_activation', None),\n",
      "              ('importance', 0.0),\n",
      "              ('activation', -0.978521456407527)]),\n",
      " OrderedDict([('name', '0000'),\n",
      "              ('creation_time', 0),\n",
      "              ('attributes', (('color', 'red'), ('size', 1))),\n",
      "              ('references', (0,)),\n",
      "              ('base_activation', -0.8047189562170503),\n",
      "              ('activation_noise', 0.08010686015432343),\n",
      "              ('spreading_activation', 0.5013877113318903),\n",
      "              ('importance', 0.0),\n",
      "              ('activation', -0.2232243847308365)]),\n",
      " OrderedDict([('name', '0000'),\n",
      "              ('creation_time', 0),\n",
      "              ('attributes', (('color', 'red'), ('size', 1))),\n",
      "              ('references', (0,)),\n",
      "              ('base_activation', -0.8958797346140275),\n",
      "              ('activation_noise', 0.2629015960444881),\n",
      "              ('spreading_activation', 0.5013877113318903),\n",
      "              ('importance', 0.0),\n",
      "              ('activation', -0.13159042723764908)])]\n"
     ]
    }
   ],
   "source": [
    "### Test4 spread to specific chunks but retrieve more possible chunks\n",
    "    #spread (color='red', size=2)\n",
    "    #retrieve (color='red') \n",
    "m.spread(color='red', size=1)\n",
    "print_all_spread(m) \n",
    "print(\"retrieve: \", m.retrieve(color='red').__repr__())\n",
    "m.advance()\n",
    "pprint.pprint(m.activation_history)"
   ]
  },
  {
   "cell_type": "code",
   "execution_count": 7,
   "metadata": {},
   "outputs": [
    {
     "name": "stdout",
     "output_type": "stream",
     "text": [
      "retrieve:  <Chunk 0003 {'color': 'red', 'size': 1}>\n",
      "[OrderedDict([('name', '0003'),\n",
      "              ('creation_time', 0),\n",
      "              ('attributes', (('color', 'red'), ('size', 1))),\n",
      "              ('references', (0,)),\n",
      "              ('base_activation', -0.5493061443340549),\n",
      "              ('activation_noise', -0.011276632932049044),\n",
      "              ('spreading_activation', None),\n",
      "              ('importance', 100.0),\n",
      "              ('activation', 99.4394172227339)]),\n",
      " OrderedDict([('name', '0004'),\n",
      "              ('creation_time', 1),\n",
      "              ('attributes', (('color', 'red'), ('height', 2))),\n",
      "              ('references', (1,)),\n",
      "              ('base_activation', -0.3465735902799726),\n",
      "              ('activation_noise', 0.09623691561938817),\n",
      "              ('spreading_activation', None),\n",
      "              ('importance', -0.6581015158318215),\n",
      "              ('activation', -0.908438190492406)]),\n",
      " OrderedDict([('name', '0005'),\n",
      "              ('creation_time', 2),\n",
      "              ('attributes', (('color', 'red'), ('height', 1))),\n",
      "              ('references', (2,)),\n",
      "              ('base_activation', 0.0),\n",
      "              ('activation_noise', -0.3219854135541716),\n",
      "              ('spreading_activation', None),\n",
      "              ('importance', 0.0),\n",
      "              ('activation', -0.3219854135541716)])]\n"
     ]
    }
   ],
   "source": [
    "#Test5: importance term\n",
    "m=pya.Memory()\n",
    "m.activation_history=[]\n",
    "m.learn(color='red', size=1, importance=100)\n",
    "m.advance()\n",
    "m.learn(color='red', height=2, importance=None)\n",
    "m.advance()\n",
    "m.learn(color='red', height=1)\n",
    "m.advance()\n",
    "\n",
    "### show actitvation history\n",
    "print(\"retrieve: \", m.retrieve(color='red').__repr__())\n",
    "pprint.pprint(m.activation_history) "
   ]
  },
  {
   "cell_type": "code",
   "execution_count": null,
   "metadata": {},
   "outputs": [],
   "source": []
  },
  {
   "cell_type": "code",
   "execution_count": null,
   "metadata": {},
   "outputs": [],
   "source": []
  },
  {
   "cell_type": "code",
   "execution_count": null,
   "metadata": {},
   "outputs": [],
   "source": []
  },
  {
   "cell_type": "code",
   "execution_count": null,
   "metadata": {},
   "outputs": [],
   "source": []
  },
  {
   "cell_type": "code",
   "execution_count": null,
   "metadata": {},
   "outputs": [],
   "source": []
  }
 ],
 "metadata": {
  "kernelspec": {
   "display_name": "Python 3",
   "language": "python",
   "name": "python3"
  },
  "language_info": {
   "codemirror_mode": {
    "name": "ipython",
    "version": 3
   },
   "file_extension": ".py",
   "mimetype": "text/x-python",
   "name": "python",
   "nbconvert_exporter": "python",
   "pygments_lexer": "ipython3",
   "version": "3.7.4"
  }
 },
 "nbformat": 4,
 "nbformat_minor": 4
}
