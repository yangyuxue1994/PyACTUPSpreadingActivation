{
 "cells": [
  {
   "cell_type": "code",
   "execution_count": 2,
   "metadata": {},
   "outputs": [
    {
     "name": "stdout",
     "output_type": "stream",
     "text": [
      "retrieve:  <Chunk 0000 {'color': 'red', 'size': 1}>\n",
      "[OrderedDict([('name', '0000'),\n",
      "              ('creation_time', 0),\n",
      "              ('attributes', (('color', 'red'), ('size', 1))),\n",
      "              ('references', (0,)),\n",
      "              ('base_activation', -0.5493061443340549),\n",
      "              ('activation_noise', 0.02891850261309848),\n",
      "              ('spreading_activation', 0.5013877113318903),\n",
      "              ('importance', 0.0),\n",
      "              ('activation', -0.018999930389066104)])]\n",
      "<Chunk 0000 {'color': 'red', 'size': 1}> 0.5013877113318903\n",
      "<Chunk 0001 {'face': 'red', 'height': 2}> 0.25069385566594515\n",
      "<Chunk 0002 {'face': 'yellow', 'height': 1}> 0.25069385566594515\n"
     ]
    }
   ],
   "source": [
    "\"\"\"\n",
    "simple memory-based ACTR: \n",
    "Author: Cher Yang\n",
    "2020/04/02\n",
    "\"\"\"\n",
    "import pyactup_v2 as pya\n",
    "import pprint\n",
    "\n",
    "#Test1: spreading activation\"\"\"\n",
    "m=pya.Memory()\n",
    "m.activation_history=[]\n",
    "m.learn(color='red', size=1)\n",
    "m.advance()\n",
    "m.learn(face='red', height=2)\n",
    "m.advance()\n",
    "m.learn(face='yellow', height=1)\n",
    "m.advance()\n",
    "\n",
    "#This test function will print spreading activation value for each chunk in m\n",
    "def print_all_sprac(m):\n",
    "    if m.activation_history is None:\n",
    "        print(\"Not Retrieved Yet\")\n",
    "    else:\n",
    "        for chunk in list(m.values()):\n",
    "            print(chunk.__repr__(), chunk._spreading_activation)\n",
    "\n",
    "### Test1 retrieve exactly matched chunk1\n",
    "print(\"retrieve: \", m.retrieve(color='red', size=1).__repr__())\n",
    "pprint.pprint(m.activation_history) \n",
    "print_all_sprac(m)"
   ]
  },
  {
   "cell_type": "code",
   "execution_count": 2,
   "metadata": {},
   "outputs": [
    {
     "name": "stdout",
     "output_type": "stream",
     "text": [
      "retrieve:  <Chunk 0000 {'color': 'red', 'size': 1}>\n",
      "[OrderedDict([('name', '0000'),\n",
      "              ('creation_time', 0),\n",
      "              ('attributes', (('color', 'red'), ('size', 1))),\n",
      "              ('references', (0,)),\n",
      "              ('base_activation', -0.5493061443340549),\n",
      "              ('activation_noise', 0.5643773965805194),\n",
      "              ('spreading_activation', 0.5013877113318903),\n",
      "              ('importance', 0.0),\n",
      "              ('activation', 0.5164589635783549)])]\n",
      "<Chunk 0000 {'color': 'red', 'size': 1}> 0.5013877113318903\n",
      "<Chunk 0001 {'face': 'red', 'height': 2}> 0.5013877113318903\n",
      "<Chunk 0002 {'face': 'yellow', 'height': 1}> 0.0\n"
     ]
    }
   ],
   "source": [
    "### Test2 retrieve less conditions\n",
    "m.activation_history=[]\n",
    "print(\"retrieve: \", m.retrieve(color='red').__repr__())\n",
    "pprint.pprint(m.activation_history)\n",
    "print_all_sprac(m)"
   ]
  },
  {
   "cell_type": "code",
   "execution_count": 3,
   "metadata": {},
   "outputs": [
    {
     "name": "stdout",
     "output_type": "stream",
     "text": [
      "retrieve:  None\n",
      "[]\n",
      "<Chunk 0000 {'color': 'red', 'size': 1}> 0.3342584742212602\n",
      "<Chunk 0001 {'face': 'red', 'height': 2}> 0.1671292371106301\n",
      "<Chunk 0002 {'face': 'yellow', 'height': 1}> 0.46941351025731504\n"
     ]
    }
   ],
   "source": [
    "### Test3 retrieve more relavant conditions\n",
    "m.activation_history=[]\n",
    "print(\"retrieve: \", m.retrieve(color='red', size=1, face='yellow').__repr__())\n",
    "pprint.pprint(m.activation_history)\n",
    "print_all_sprac(m)"
   ]
  },
  {
   "cell_type": "code",
   "execution_count": 4,
   "metadata": {},
   "outputs": [
    {
     "name": "stdout",
     "output_type": "stream",
     "text": [
      "retrieve:  None\n",
      "[]\n",
      "<Chunk 0000 {'color': 'red', 'size': 1}> 0.3342584742212602\n",
      "<Chunk 0001 {'face': 'red', 'height': 2}> 0.1671292371106301\n",
      "<Chunk 0002 {'face': 'yellow', 'height': 1}> 0.1671292371106301\n"
     ]
    }
   ],
   "source": [
    "### Test4 retrieve more irrelavant conditions\n",
    "m.activation_history=[]\n",
    "print(\"retrieve: \", m.retrieve(color='red', size=1, width=4).__repr__())\n",
    "pprint.pprint(m.activation_history)\n",
    "print_all_sprac(m)"
   ]
  },
  {
   "cell_type": "code",
   "execution_count": 5,
   "metadata": {},
   "outputs": [
    {
     "name": "stdout",
     "output_type": "stream",
     "text": [
      "retrieve:  <Chunk 0003 {'color': 'red', 'size': 1}>\n",
      "[OrderedDict([('name', '0003'),\n",
      "              ('creation_time', 0),\n",
      "              ('attributes', (('color', 'red'), ('size', 1))),\n",
      "              ('references', (0,)),\n",
      "              ('base_activation', -0.5493061443340549),\n",
      "              ('activation_noise', 0.34340893800070277),\n",
      "              ('spreading_activation', 0.21370563888010952),\n",
      "              ('importance', 100.0),\n",
      "              ('activation', 100.00780843254677)]),\n",
      " OrderedDict([('name', '0004'),\n",
      "              ('creation_time', 1),\n",
      "              ('attributes', (('color', 'red'), ('height', 2))),\n",
      "              ('references', (1,)),\n",
      "              ('base_activation', -0.3465735902799726),\n",
      "              ('activation_noise', 0.03428526266100649),\n",
      "              ('spreading_activation', 0.21370563888010952),\n",
      "              ('importance', 0.5602283985320133),\n",
      "              ('activation', 0.4616457097931568)]),\n",
      " OrderedDict([('name', '0005'),\n",
      "              ('creation_time', 2),\n",
      "              ('attributes', (('color', 'red'), ('height', 1))),\n",
      "              ('references', (2,)),\n",
      "              ('base_activation', 0.0),\n",
      "              ('activation_noise', -0.1662431717483786),\n",
      "              ('spreading_activation', 0.21370563888010952),\n",
      "              ('importance', 0.0),\n",
      "              ('activation', 0.04746246713173091)])]\n"
     ]
    }
   ],
   "source": [
    "#Test2: importance term\n",
    "m=pya.Memory()\n",
    "m.activation_history=[]\n",
    "m.learn(color='red', size=1, importance=100)\n",
    "m.advance()\n",
    "m.learn(color='red', height=2, importance=None)\n",
    "m.advance()\n",
    "m.learn(color='red', height=1)\n",
    "m.advance()\n",
    "\n",
    "### show actitvation history\n",
    "print(\"retrieve: \", m.retrieve(color='red').__repr__())\n",
    "pprint.pprint(m.activation_history) "
   ]
  },
  {
   "cell_type": "code",
   "execution_count": null,
   "metadata": {},
   "outputs": [],
   "source": []
  },
  {
   "cell_type": "code",
   "execution_count": null,
   "metadata": {},
   "outputs": [],
   "source": []
  },
  {
   "cell_type": "code",
   "execution_count": null,
   "metadata": {},
   "outputs": [],
   "source": []
  },
  {
   "cell_type": "code",
   "execution_count": null,
   "metadata": {},
   "outputs": [],
   "source": []
  },
  {
   "cell_type": "code",
   "execution_count": null,
   "metadata": {},
   "outputs": [],
   "source": []
  }
 ],
 "metadata": {
  "kernelspec": {
   "display_name": "Python 3",
   "language": "python",
   "name": "python3"
  },
  "language_info": {
   "codemirror_mode": {
    "name": "ipython",
    "version": 3
   },
   "file_extension": ".py",
   "mimetype": "text/x-python",
   "name": "python",
   "nbconvert_exporter": "python",
   "pygments_lexer": "ipython3",
   "version": "3.7.4"
  }
 },
 "nbformat": 4,
 "nbformat_minor": 4
}
