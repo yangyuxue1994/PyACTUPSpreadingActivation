{
 "cells": [
  {
   "cell_type": "code",
   "execution_count": null,
   "metadata": {},
   "outputs": [],
   "source": [
    "\"\"\"\n",
    "simple memory-based ACTR:\n",
    "Author: Cher Yang\n",
    "2020/02/20\n",
    "\"\"\"\n",
    "import pyactup_v2 as pya\n",
    "import random\n",
    "\n",
    "######## init: declarative memory buffer and imaginal buffer\n",
    "random.seed(0)\n",
    "dm_buffer=pya.Memory() \n",
    "imaginal_buffer=pya.Memory() \n",
    "dm_buffer._activation_history=[]\n",
    "\n",
    "################################################################\n",
    "# '''ATTEND 1 (red,1)\n",
    "# in imaginal buffer (WM), create a chunk \n",
    "#     only one chunk is allowed, but up to 7 items (slot,value) could be added\n",
    "# '''\n",
    "imaginal_buffer.learn(color='red', size=1)\n",
    "\n",
    "# ''' ENCODE 1\n",
    "# in dm buffer, copy the chunk in imaginal buffer\n",
    "# clear imaginal buffer\n",
    "# '''\n",
    "dm_buffer.encode(imaginal_buffer._curr_chunk(0))\n",
    "dm_buffer.advance(2)\n",
    "imaginal_buffer.reset()  \n",
    "\n",
    "################################################################\n",
    "# '''ATTEND 2 (red, 2)\n",
    "# in imaginal buffer (WM), create a chunk \n",
    "#     only one chunk is allowed, but up to 7 items (slot,value) could be added\n",
    "# '''\n",
    "imaginal_buffer.learn(color='red', size=2)\n",
    "\n",
    "# ''' ENCODE 2\n",
    "# in dm buffer, copy the chunk in imaginal buffer\n",
    "# clear imaginal buffer\n",
    "# '''\n",
    "# encode in LTM\n",
    "dm_buffer.encode(imaginal_buffer._curr_chunk(0))\n",
    "dm_buffer.advance(2)\n",
    "imaginal_buffer.reset()  \n",
    "\n",
    "################################################################\n",
    "# '''ATTEND 3 (green, 100)\n",
    "# in imaginal buffer (WM), create a chunk \n",
    "#     only one chunk is allowed, but up to 7 items (slot,value) could be added\n",
    "# '''\n",
    "imaginal_buffer.learn(color='green', size=100)\n",
    "\n",
    "# ''' ENCODE 3\n",
    "# in dm buffer, copy the chunk in imaginal buffer\n",
    "# clear imaginal buffer\n",
    "# '''\n",
    "# encode in LTM\n",
    "dm_buffer.encode(imaginal_buffer._curr_chunk(0))\n",
    "dm_buffer.advance(2)\n",
    "imaginal_buffer.reset()  \n",
    "\n",
    "\n",
    "################################################################\n",
    "# '''RETRIEVE 1 (red, 1)\n",
    "# first, attend one event, try to retrieve, if successful, re-encode, otherweise, return None\n",
    "# in imaginal buffer (WM), create a chunk \n",
    "# in dm buffer, request a retrieval\n",
    "# '''\n",
    "imaginal_buffer.learn(color='red', size=1)\n",
    "ichunk=imaginal_buffer._curr_chunk(0)\n",
    "result = dm_buffer.retrieve(ichunk)\n",
    "dm_buffer.advance(2)\n",
    "\n",
    "#result"
   ]
  },
  {
   "cell_type": "code",
   "execution_count": null,
   "metadata": {},
   "outputs": [],
   "source": [
    "dm_buffer._activation_history"
   ]
  },
  {
   "cell_type": "code",
   "execution_count": null,
   "metadata": {},
   "outputs": [],
   "source": [
    "import matplotlib.pyplot as plt\n",
    "import pyactup_v2 as pya\n",
    "import random\n",
    "imaginal_buffer.learn(color='red')\n",
    "result = dm_buffer.retrieve(imaginal_buffer._curr_chunk(0))\n",
    "dm_buffer.advance(2)\n",
    "\n",
    "result"
   ]
  },
  {
   "cell_type": "code",
   "execution_count": null,
   "metadata": {},
   "outputs": [],
   "source": []
  },
  {
   "cell_type": "code",
   "execution_count": null,
   "metadata": {},
   "outputs": [],
   "source": []
  },
  {
   "cell_type": "code",
   "execution_count": null,
   "metadata": {},
   "outputs": [],
   "source": []
  },
  {
   "cell_type": "code",
   "execution_count": null,
   "metadata": {},
   "outputs": [],
   "source": []
  },
  {
   "cell_type": "code",
   "execution_count": null,
   "metadata": {},
   "outputs": [],
   "source": []
  }
 ],
 "metadata": {
  "kernelspec": {
   "display_name": "Python 3",
   "language": "python",
   "name": "python3"
  },
  "language_info": {
   "codemirror_mode": {
    "name": "ipython",
    "version": 3
   },
   "file_extension": ".py",
   "mimetype": "text/x-python",
   "name": "python",
   "nbconvert_exporter": "python",
   "pygments_lexer": "ipython3",
   "version": "3.6.9"
  }
 },
 "nbformat": 4,
 "nbformat_minor": 4
}
