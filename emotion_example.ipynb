{
 "cells": [
  {
   "cell_type": "code",
   "execution_count": 1,
   "metadata": {},
   "outputs": [
    {
     "data": {
      "text/plain": [
       "<Chunk 0001 {'color': 'red', 'size': 1}>"
      ]
     },
     "execution_count": 1,
     "metadata": {},
     "output_type": "execute_result"
    }
   ],
   "source": [
    "import pyactup_v2 as pya\n",
    "import random\n",
    "\n",
    "######## init: declarative memory buffer and imaginal buffer\n",
    "random.seed(0)\n",
    "dm_buffer=pya.Memory() \n",
    "imaginal_buffer=pya.Memory() \n",
    "dm_buffer._activation_history=[]\n",
    "\n",
    "# attend to event1 #------------ set high Importance (emotional value) ------------#\n",
    "imaginal_buffer.importance=100\n",
    "imaginal_buffer.learn(color='red', size=1)\n",
    "ichunk=imaginal_buffer._curr_chunk(0)\n",
    "dm_buffer.encode(ichunk)\n",
    "dm_buffer.advance(2)\n",
    "imaginal_buffer.reset()   # clear img buffer\n",
    "\n",
    "# attend to event2 \n",
    "imaginal_buffer.learn(color='red', size=2)\n",
    "ichunk=imaginal_buffer._curr_chunk(0)\n",
    "dm_buffer.encode(ichunk)\n",
    "dm_buffer.advance(2)\n",
    "imaginal_buffer.reset()   # clear img buffer\n",
    "\n",
    "# retrieve \n",
    "imaginal_buffer.learn(color='red')\n",
    "ichunk=imaginal_buffer._curr_chunk(0)\n",
    "result = dm_buffer.retrieve(ichunk)\n",
    "dm_buffer.advance(2)\n",
    "imaginal_buffer.reset()\n",
    "\n",
    "result"
   ]
  },
  {
   "cell_type": "code",
   "execution_count": 2,
   "metadata": {},
   "outputs": [
    {
     "data": {
      "text/plain": [
       "[OrderedDict([('name', '0001'),\n",
       "              ('creation_time', 0),\n",
       "              ('attributes', (('color', 'red'), ('size', 1))),\n",
       "              ('references', (0,)),\n",
       "              ('base_activation', -0.6931471805599453),\n",
       "              ('activation_noise', -0.422876006472601),\n",
       "              ('importance', 100),\n",
       "              ('activation', 99.38536452429933),\n",
       "              ('spreading_activation', 0.5013877113318903)]),\n",
       " OrderedDict([('name', '0003'),\n",
       "              ('creation_time', 2),\n",
       "              ('attributes', (('color', 'red'), ('size', 2))),\n",
       "              ('references', (2,)),\n",
       "              ('base_activation', -0.3465735902799726),\n",
       "              ('activation_noise', -0.2853742758475817),\n",
       "              ('importance', -0.17299340559894127),\n",
       "              ('activation', -0.30355356039460524),\n",
       "              ('spreading_activation', 0.5013877113318903)])]"
      ]
     },
     "execution_count": 2,
     "metadata": {},
     "output_type": "execute_result"
    }
   ],
   "source": [
    "dm_buffer._activation_history"
   ]
  },
  {
   "cell_type": "code",
   "execution_count": null,
   "metadata": {},
   "outputs": [],
   "source": []
  }
 ],
 "metadata": {
  "kernelspec": {
   "display_name": "Python 3",
   "language": "python",
   "name": "python3"
  },
  "language_info": {
   "codemirror_mode": {
    "name": "ipython",
    "version": 3
   },
   "file_extension": ".py",
   "mimetype": "text/x-python",
   "name": "python",
   "nbconvert_exporter": "python",
   "pygments_lexer": "ipython3",
   "version": "3.6.9"
  }
 },
 "nbformat": 4,
 "nbformat_minor": 4
}
