{
 "cells": [
  {
   "cell_type": "code",
   "execution_count": 9,
   "metadata": {},
   "outputs": [],
   "source": [
    "\"\"\"\n",
    "simple memory-based ACTR: \n",
    "Author: Cher Yang\n",
    "2020/04/02\n",
    "\"\"\"\n",
    "import pyactup_v2 as pya\n",
    "import pprint\n",
    "import random \n",
    "\n",
    "random.seed(0)\n",
    "\n",
    "#Test1: spreading activation\"\"\"\n",
    "m=pya.Memory()\n",
    "m.activation_history=[]\n",
    "m.learn(color='red', size=1)\n",
    "m.advance()\n",
    "m.learn(face='red', height=2)\n",
    "m.advance()\n",
    "m.learn(face='yellow', height=1)\n",
    "m.advance()\n",
    "\n",
    "#This test function will print spreading activation value for each chunk in m\n",
    "def print_all_spread(m):\n",
    "    if m.activation_history is None:\n",
    "        print(\"Not Retrieved Yet\")\n",
    "    else:\n",
    "        for chunk in list(m.values()):\n",
    "            print(chunk.__repr__(), chunk._spreading_activation)"
   ]
  },
  {
   "cell_type": "code",
   "execution_count": 10,
   "metadata": {},
   "outputs": [
    {
     "name": "stdout",
     "output_type": "stream",
     "text": [
      "retrieve:  <Chunk 0012 {'color': 'red', 'size': 1}>\n",
      "<Chunk 0012 {'color': 'red', 'size': 1}> 0.5013877113318903\n",
      "<Chunk 0013 {'face': 'red', 'height': 2}> 0.25069385566594515\n",
      "<Chunk 0014 {'face': 'yellow', 'height': 1}> 0.25069385566594515\n",
      "[OrderedDict([('name', '0012'),\n",
      "              ('creation_time', 0),\n",
      "              ('attributes', (('color', 'red'), ('size', 1))),\n",
      "              ('references', (0,)),\n",
      "              ('base_activation', -0.5493061443340549),\n",
      "              ('activation_noise', -0.422876006472601),\n",
      "              ('spreading_activation', 0.5013877113318903),\n",
      "              ('importance', 0.0),\n",
      "              ('activation', -0.47079443947476557)])]\n"
     ]
    }
   ],
   "source": [
    "### Test1: spread conditions = retrieve conditions\n",
    "m.spread(color='red', size=1)\n",
    "print(\"retrieve: \", m.retrieve(color='red', size=1).__repr__())\n",
    "m.advance()\n",
    "\n",
    "print_all_spread(m) # show spreading activation value for each chunk in m\n",
    "pprint.pprint(m.activation_history)"
   ]
  },
  {
   "cell_type": "code",
   "execution_count": 11,
   "metadata": {},
   "outputs": [
    {
     "name": "stdout",
     "output_type": "stream",
     "text": [
      "no clear: \n",
      "<Chunk 0012 {'color': 'red', 'size': 1}> 1.504163133995671\n",
      "<Chunk 0013 {'face': 'red', 'height': 2}> 0.7520815669978355\n",
      "<Chunk 0014 {'face': 'yellow', 'height': 1}> 0.7520815669978355\n",
      "\n",
      "has clear: \n",
      "<Chunk 0012 {'color': 'red', 'size': 1}> 0.5013877113318903\n",
      "<Chunk 0013 {'face': 'red', 'height': 2}> 0.25069385566594515\n",
      "<Chunk 0014 {'face': 'yellow', 'height': 1}> 0.25069385566594515\n"
     ]
    }
   ],
   "source": [
    "### Test2: auto_clear spread\n",
    "# spreading values are incremental\n",
    "print('no clear: ')\n",
    "m.spread(color='red', size=1)\n",
    "m.spread(color='red', size=1)\n",
    "print_all_spread(m)\n",
    "\n",
    "# spreading values are reset\n",
    "print('\\nhas clear: ') \n",
    "m.spread(color='red', size=1, auto_clear=True)\n",
    "m.spread(color='red', size=1, auto_clear=True)\n",
    "print_all_spread(m)"
   ]
  },
  {
   "cell_type": "code",
   "execution_count": 12,
   "metadata": {},
   "outputs": [
    {
     "name": "stdout",
     "output_type": "stream",
     "text": [
      "<Chunk 0012 {'color': 'red', 'size': 1}> 0.5013877113318903\n",
      "<Chunk 0013 {'face': 'red', 'height': 2}> 0.5013877113318903\n",
      "<Chunk 0014 {'face': 'yellow', 'height': 1}> 0.0\n",
      "retrieve:  <Chunk 0012 {'color': 'red', 'size': 1}>\n",
      "[OrderedDict([('name', '0012'),\n",
      "              ('creation_time', 0),\n",
      "              ('attributes', (('color', 'red'), ('size', 1))),\n",
      "              ('references', (0,)),\n",
      "              ('base_activation', -0.6931471805599453),\n",
      "              ('activation_noise', -0.2853742758475817),\n",
      "              ('spreading_activation', 0.5013877113318903),\n",
      "              ('importance', 0.0),\n",
      "              ('activation', -0.47713374507563666)])]\n"
     ]
    }
   ],
   "source": [
    "### Test3 spread conditions <= retrieve conditions\n",
    "    #spread (color='red')\n",
    "    #retrieve (color='red', size=1)\n",
    "    \n",
    "m.activation_history=[] # reset activation history    \n",
    "m.spread(color='red', auto_clear=True)\n",
    "print_all_spread(m) \n",
    "\n",
    "print(\"retrieve: \", m.retrieve(color='red').__repr__())\n",
    "m.advance()\n",
    "pprint.pprint(m.activation_history)"
   ]
  },
  {
   "cell_type": "code",
   "execution_count": 13,
   "metadata": {},
   "outputs": [
    {
     "name": "stdout",
     "output_type": "stream",
     "text": [
      "<Chunk 0012 {'color': 'red', 'size': 1}> 0.3342584742212602\n",
      "<Chunk 0013 {'face': 'red', 'height': 2}> 0.46941351025731504\n",
      "<Chunk 0014 {'face': 'yellow', 'height': 1}> 0.1671292371106301\n",
      "retrieve:  <Chunk 0012 {'color': 'red', 'size': 1}>\n",
      "[OrderedDict([('name', '0012'),\n",
      "              ('creation_time', 0),\n",
      "              ('attributes', (('color', 'red'), ('size', 1))),\n",
      "              ('references', (0,)),\n",
      "              ('base_activation', -0.8047189562170503),\n",
      "              ('activation_noise', 0.08010686015432343),\n",
      "              ('spreading_activation', 0.3342584742212602),\n",
      "              ('importance', 0.0),\n",
      "              ('activation', -0.3903536218414666)])]\n"
     ]
    }
   ],
   "source": [
    "### Test4 spread conditions >= retrieve conditions\n",
    "    #spread (color='red', size=1, height=2)\n",
    "    #retrieve (color='red', size=1) \n",
    "    \n",
    "m.activation_history=[] # reset activation history    \n",
    "m.spread(color='red', size=1, height=2, auto_clear=True)\n",
    "print_all_spread(m) \n",
    "\n",
    "print(\"retrieve: \", m.retrieve(color='red', size=1).__repr__())\n",
    "m.advance()\n",
    "pprint.pprint(m.activation_history)"
   ]
  },
  {
   "cell_type": "code",
   "execution_count": 14,
   "metadata": {},
   "outputs": [
    {
     "name": "stdout",
     "output_type": "stream",
     "text": [
      "<Chunk 0015 {'color': 'red', 'size': 1}> 0.0\n",
      "<Chunk 0016 {'face': 'red', 'height': 2}> 0.0\n",
      "<Chunk 0017 {'face': 'yellow', 'height': 1}> 0.0\n",
      "[OrderedDict([('name', '0015'),\n",
      "              ('creation_time', 0),\n",
      "              ('attributes', (('color', 'red'), ('size', 1))),\n",
      "              ('references', (0,)),\n",
      "              ('base_activation', -0.5493061443340549),\n",
      "              ('activation_noise', 0.2629015960444881),\n",
      "              ('spreading_activation', 0.0),\n",
      "              ('importance', 0.0),\n",
      "              ('activation', -0.2864045482895668)])]\n"
     ]
    }
   ],
   "source": [
    "### Test5: customized sji function\n",
    "import numpy as np\n",
    "def new_sji_func(Memory, match_matrix):\n",
    "    fan=np.sum(match_matrix, axis=1)+1\n",
    "    sji=(Memory.mas - np.log(fan)) * 0\n",
    "    return sji\n",
    "\n",
    "# using customized sji function\n",
    "m=pya.Memory()\n",
    "m._use_actr_sji = False\n",
    "pya.set_sji_function(new_sji_func)\n",
    "m.activation_history=[]\n",
    "\n",
    "m.learn(color='red', size=1)\n",
    "m.advance()\n",
    "m.learn(face='red', height=2)\n",
    "m.advance()\n",
    "m.learn(face='yellow', height=1)\n",
    "m.advance()\n",
    "\n",
    "m.spread(color='red', size=1)\n",
    "m.retrieve(color='red')\n",
    "m.advance()\n",
    "\n",
    "# check spreading activation\n",
    "print_all_spread(m)\n",
    "pprint.pprint(m.activation_history)"
   ]
  },
  {
   "cell_type": "code",
   "execution_count": 15,
   "metadata": {},
   "outputs": [
    {
     "name": "stdout",
     "output_type": "stream",
     "text": [
      "retrieve:  <Chunk 0018 {'color': 'red', 'size': 1}>\n",
      "[OrderedDict([('name', '0018'),\n",
      "              ('creation_time', 0),\n",
      "              ('attributes', (('color', 'red'), ('size', 1))),\n",
      "              ('references', (0,)),\n",
      "              ('base_activation', -0.5493061443340549),\n",
      "              ('activation_noise', 0.09623691561938817),\n",
      "              ('spreading_activation', None),\n",
      "              ('importance', 100.0),\n",
      "              ('activation', 99.54693077128533)]),\n",
      " OrderedDict([('name', '0019'),\n",
      "              ('creation_time', 1),\n",
      "              ('attributes', (('color', 'red'), ('height', 2))),\n",
      "              ('references', (1,)),\n",
      "              ('base_activation', -0.3465735902799726),\n",
      "              ('activation_noise', -0.3219854135541716),\n",
      "              ('spreading_activation', None),\n",
      "              ('importance', 0.022298962520990756),\n",
      "              ('activation', -0.6462600413131534)]),\n",
      " OrderedDict([('name', '0020'),\n",
      "              ('creation_time', 2),\n",
      "              ('attributes', (('color', 'red'), ('height', 1))),\n",
      "              ('references', (2,)),\n",
      "              ('base_activation', 0.0),\n",
      "              ('activation_noise', 0.20789306577819772),\n",
      "              ('spreading_activation', None),\n",
      "              ('importance', 0.0),\n",
      "              ('activation', 0.20789306577819772)])]\n"
     ]
    }
   ],
   "source": [
    "#Test: importance term\n",
    "m=pya.Memory()\n",
    "m.activation_history=[]\n",
    "m.learn(color='red', size=1, importance=100)\n",
    "m.advance()\n",
    "m.learn(color='red', height=2, importance=None)\n",
    "m.advance()\n",
    "m.learn(color='red', height=1)\n",
    "m.advance()\n",
    "\n",
    "### show actitvation history\n",
    "print(\"retrieve: \", m.retrieve(color='red').__repr__())\n",
    "pprint.pprint(m.activation_history) "
   ]
  },
  {
   "cell_type": "code",
   "execution_count": null,
   "metadata": {},
   "outputs": [],
   "source": []
  },
  {
   "cell_type": "code",
   "execution_count": null,
   "metadata": {},
   "outputs": [],
   "source": []
  },
  {
   "cell_type": "code",
   "execution_count": null,
   "metadata": {},
   "outputs": [],
   "source": []
  },
  {
   "cell_type": "code",
   "execution_count": null,
   "metadata": {},
   "outputs": [],
   "source": []
  },
  {
   "cell_type": "code",
   "execution_count": null,
   "metadata": {},
   "outputs": [],
   "source": []
  }
 ],
 "metadata": {
  "kernelspec": {
   "display_name": "Python 3",
   "language": "python",
   "name": "python3"
  },
  "language_info": {
   "codemirror_mode": {
    "name": "ipython",
    "version": 3
   },
   "file_extension": ".py",
   "mimetype": "text/x-python",
   "name": "python",
   "nbconvert_exporter": "python",
   "pygments_lexer": "ipython3",
   "version": "3.6.9"
  }
 },
 "nbformat": 4,
 "nbformat_minor": 4
}
